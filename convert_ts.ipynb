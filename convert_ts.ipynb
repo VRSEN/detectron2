{
 "cells": [
  {
   "cell_type": "code",
   "execution_count": 1,
   "id": "57a87b64-abca-4e83-962e-0e2c5f5ad255",
   "metadata": {},
   "outputs": [],
   "source": [
    "import os\n",
    "from os import chdir, mkdir;"
   ]
  },
  {
   "cell_type": "code",
   "execution_count": 2,
   "id": "c5d9e51b-eb1f-4757-a15f-23eaf91dfb6d",
   "metadata": {},
   "outputs": [],
   "source": [
    "chdir('/falldetector/detectron2')"
   ]
  },
  {
   "cell_type": "markdown",
   "id": "81a18b0d-ad3a-4756-8d89-6e7c488c9169",
   "metadata": {},
   "source": [
    "# Tracing"
   ]
  },
  {
   "cell_type": "code",
   "execution_count": 1,
   "id": "6ed9fe9a-5e60-4263-809e-b3f8fe3892c6",
   "metadata": {
    "scrolled": true,
    "tags": []
   },
   "outputs": [
    {
     "name": "stdout",
     "output_type": "stream",
     "text": [
      "\u001b[32m[06/03 09:48:42 detectron2]: \u001b[0mCommand line arguments: Namespace(config_file='./configs/COCO-Keypoints/keypoint_rcnn_R_101_FPN_3x.yaml', export_method='tracing', format='torchscript', opts=['MODEL.WEIGHTS', 'detectron2://COCO-Keypoints/keypoint_rcnn_R_101_FPN_3x/138363331/model_final_997cc7.pkl', 'MODEL.ROI_HEADS.SCORE_THRESH_TEST', '0.7', 'MODEL.DEVICE', 'cuda'], output='./output_tracing_float', run_eval=False, sample_image=None)\n",
      "The checkpoint state_dict contains keys that are not used by the model:\n",
      "  \u001b[35mproposal_generator.anchor_generator.cell_anchors.{0, 1, 2, 3, 4}\u001b[0m\n",
      "\u001b[32m[06/03 09:48:53 d2.data.datasets.coco]: \u001b[0mLoaded 100 images in COCO format from datasets/coco/annotations/person_keypoints_val2017.json\n",
      "\u001b[32m[06/03 09:48:53 d2.data.build]: \u001b[0mDistribution of instances among all 1 categories:\n",
      "\u001b[36m|  category  | #instances   |\n",
      "|:----------:|:-------------|\n",
      "|   person   | 158          |\n",
      "|            |              |\u001b[0m\n",
      "\u001b[32m[06/03 09:48:53 d2.data.dataset_mapper]: \u001b[0m[DatasetMapper] Augmentations used in inference: [ResizeShortestEdge(short_edge_length=(800, 800), max_size=1333, sample_style='choice')]\n",
      "\u001b[32m[06/03 09:48:53 d2.data.common]: \u001b[0mSerializing 100 elements to byte tensors and concatenating them all ...\n",
      "\u001b[32m[06/03 09:48:53 d2.data.common]: \u001b[0mSerialized dataset takes 0.18 MiB\n",
      "/falldetector/detectron2/detectron2/structures/image_list.py:92: TracerWarning: Converting a tensor to a Python boolean might cause the trace to be incorrect. We can't record the data flow of Python values, so this value will be treated as a constant in the future. This means that the trace might not generalize to other inputs!\n",
      "  assert t.shape[:-2] == tensors[0].shape[:-2], t.shape\n",
      "/falldetector/detectron2/detectron2/structures/image_list.py:97: TracerWarning: torch.tensor results are registered as constants in the trace. You can safely ignore this warning if you use this function to create tensors out of constant variables that would be the same every time you call this function. In any other case, this might cause the trace to be incorrect.\n",
      "  max_size = torch.tensor([max_size[:,0].max(), max_size[:,1].max()], dtype=torch.int)\n",
      "/falldetector/detectron2/detectron2/structures/image_list.py:97: TracerWarning: Converting a tensor to a Python integer might cause the trace to be incorrect. We can't record the data flow of Python values, so this value will be treated as a constant in the future. This means that the trace might not generalize to other inputs!\n",
      "  max_size = torch.tensor([max_size[:,0].max(), max_size[:,1].max()], dtype=torch.int)\n",
      "/falldetector/detectron2/detectron2/structures/image_list.py:126: TracerWarning: Converting a tensor to a Python integer might cause the trace to be incorrect. We can't record the data flow of Python values, so this value will be treated as a constant in the future. This means that the trace might not generalize to other inputs!\n",
      "  padding_size = [0, int(max_size[-1] - int(image_size[1])), 0, int(max_size[-2] - int(image_size[0]))]\n",
      "/falldetector/detectron2/detectron2/modeling/anchor_generator.py:41: TracerWarning: Converting a tensor to a Python float might cause the trace to be incorrect. We can't record the data flow of Python values, so this value will be treated as a constant in the future. This means that the trace might not generalize to other inputs!\n",
      "  float(offset * stride), float(grid_width * stride), stride, dtype=torch.float32\n",
      "/falldetector/detectron2/detectron2/modeling/anchor_generator.py:44: TracerWarning: Converting a tensor to a Python float might cause the trace to be incorrect. We can't record the data flow of Python values, so this value will be treated as a constant in the future. This means that the trace might not generalize to other inputs!\n",
      "  float(offset * stride), float(grid_height * stride), stride, dtype=torch.float32\n",
      "/falldetector/detectron2/detectron2/structures/boxes.py:158: TracerWarning: torch.as_tensor results are registered as constants in the trace. You can safely ignore this warning if you use this function to create tensors out of constant variables that would be the same every time you call this function. In any other case, this might cause the trace to be incorrect.\n",
      "  tensor = torch.as_tensor(tensor, dtype=torch.float32, device=device)\n",
      "/falldetector/detectron2/detectron2/structures/boxes.py:163: TracerWarning: Converting a tensor to a Python boolean might cause the trace to be incorrect. We can't record the data flow of Python values, so this value will be treated as a constant in the future. This means that the trace might not generalize to other inputs!\n",
      "  assert tensor.dim() == 2 and tensor.size(-1) == 4, tensor.size()\n",
      "/falldetector/detectron2/detectron2/modeling/box_regression.py:93: TracerWarning: torch.tensor results are registered as constants in the trace. You can safely ignore this warning if you use this function to create tensors out of constant variables that would be the same every time you call this function. In any other case, this might cause the trace to be incorrect.\n",
      "  ctr_x = boxes[:, 0] + torch.tensor(0.5, dtype=torch.float) * widths\n",
      "/falldetector/detectron2/detectron2/modeling/box_regression.py:94: TracerWarning: torch.tensor results are registered as constants in the trace. You can safely ignore this warning if you use this function to create tensors out of constant variables that would be the same every time you call this function. In any other case, this might cause the trace to be incorrect.\n",
      "  ctr_y = boxes[:, 1] + torch.tensor(0.5, dtype=torch.float) * heights\n",
      "/falldetector/detectron2/detectron2/modeling/box_regression.py:97: TracerWarning: torch.tensor results are registered as constants in the trace. You can safely ignore this warning if you use this function to create tensors out of constant variables that would be the same every time you call this function. In any other case, this might cause the trace to be incorrect.\n",
      "  dx = (deltas[:, 0::4] / torch.tensor(wx, dtype=torch.float))\n",
      "/falldetector/detectron2/detectron2/modeling/box_regression.py:98: TracerWarning: torch.tensor results are registered as constants in the trace. You can safely ignore this warning if you use this function to create tensors out of constant variables that would be the same every time you call this function. In any other case, this might cause the trace to be incorrect.\n",
      "  dy = (deltas[:, 1::4] / torch.tensor(wy, dtype=torch.float))\n",
      "/falldetector/detectron2/detectron2/modeling/box_regression.py:99: TracerWarning: torch.tensor results are registered as constants in the trace. You can safely ignore this warning if you use this function to create tensors out of constant variables that would be the same every time you call this function. In any other case, this might cause the trace to be incorrect.\n",
      "  dw = (deltas[:, 2::4] / torch.tensor(ww, dtype=torch.float))\n",
      "/falldetector/detectron2/detectron2/modeling/box_regression.py:100: TracerWarning: torch.tensor results are registered as constants in the trace. You can safely ignore this warning if you use this function to create tensors out of constant variables that would be the same every time you call this function. In any other case, this might cause the trace to be incorrect.\n",
      "  dh = (deltas[:, 3::4] / torch.tensor(wh, dtype=torch.float))\n",
      "/falldetector/detectron2/detectron2/modeling/box_regression.py:116: TracerWarning: torch.tensor results are registered as constants in the trace. You can safely ignore this warning if you use this function to create tensors out of constant variables that would be the same every time you call this function. In any other case, this might cause the trace to be incorrect.\n",
      "  x1 = pred_ctr_x - torch.tensor(0.5, dtype=torch.float) * pred_w\n",
      "/falldetector/detectron2/detectron2/modeling/box_regression.py:117: TracerWarning: torch.tensor results are registered as constants in the trace. You can safely ignore this warning if you use this function to create tensors out of constant variables that would be the same every time you call this function. In any other case, this might cause the trace to be incorrect.\n",
      "  y1 = pred_ctr_y - torch.tensor(0.5, dtype=torch.float) * pred_h\n",
      "/falldetector/detectron2/detectron2/modeling/box_regression.py:118: TracerWarning: torch.tensor results are registered as constants in the trace. You can safely ignore this warning if you use this function to create tensors out of constant variables that would be the same every time you call this function. In any other case, this might cause the trace to be incorrect.\n",
      "  x2 = pred_ctr_x + torch.tensor(0.5, dtype=torch.float) * pred_w\n",
      "/falldetector/detectron2/detectron2/modeling/box_regression.py:119: TracerWarning: torch.tensor results are registered as constants in the trace. You can safely ignore this warning if you use this function to create tensors out of constant variables that would be the same every time you call this function. In any other case, this might cause the trace to be incorrect.\n",
      "  y2 = pred_ctr_y + torch.tensor(0.5, dtype=torch.float) * pred_h\n",
      "/falldetector/detectron2/detectron2/modeling/proposal_generator/proposal_utils.py:72: TracerWarning: Converting a tensor to a Python number might cause the trace to be incorrect. We can't record the data flow of Python values, so this value will be treated as a constant in the future. This means that the trace might not generalize to other inputs!\n",
      "  num_proposals_i = num_proposals_i.int().item()\n",
      "Python 3.6.9 (default, Jan 26 2021, 15:33:00) \n",
      "Type 'copyright', 'credits' or 'license' for more information\n",
      "IPython 7.16.1 -- An enhanced Interactive Python. Type '?' for help.\n",
      "\n",
      "\u001b[6n\u001b[?2004h\u001b[?1l\u001b[?25l\u001b[0m\u001b[?7l\u001b[0m\u001b[J\u001b[0mIn [1]:\u001b[7D\u001b[8C\u001b[?7h\u001b[0m\u001b[?12l\u001b[?25h\u001b[8D\u001b[J\u001b[0m\u001b[?7h\u001b[?2004lWARNING: your terminal doesn't support cursor position requests (CPR).\n",
      "\u001b[?2004h\u001b[?25l\u001b[0m\u001b[?7l\u001b[0m\u001b[J\u001b[0mIn [1]:\u001b[7D\u001b[8C\u001b[?7h\u001b[0m\u001b[?12l\u001b[?25hKilled\n"
     ]
    }
   ],
   "source": [
    "!python3 ./tools/deploy/export_model.py --config-file ./configs/COCO-Keypoints/keypoint_rcnn_R_101_FPN_3x.yaml \\\n",
    "    --output ./output_tracing_float --export-method tracing --format torchscript \\\n",
    "    MODEL.WEIGHTS detectron2://COCO-Keypoints/keypoint_rcnn_R_101_FPN_3x/138363331/model_final_997cc7.pkl \\\n",
    "    MODEL.ROI_HEADS.SCORE_THRESH_TEST 0.7 \\\n",
    "    MODEL.DEVICE cuda"
   ]
  },
  {
   "cell_type": "markdown",
   "id": "34333015-3d35-409c-b7ee-7e626c5c37cf",
   "metadata": {},
   "source": [
    "## Scripting"
   ]
  },
  {
   "cell_type": "code",
   "execution_count": null,
   "id": "97e0f5f8-5e85-42e6-bfa8-fbf495e6c4e4",
   "metadata": {},
   "outputs": [],
   "source": [
    "!python3 ./tools/deploy/export_model.py --config-file ./configs/COCO-Keypoints/keypoint_rcnn_R_101_FPN_3x.yaml \\\n",
    "    --output ./output_scripting --export-method scripting --format torchscript \\\n",
    "--sample-image ./datasets/coco/val2017/000000000139.jpg \\\n",
    "    MODEL.WEIGHTS detectron2://COCO-Keypoints/keypoint_rcnn_R_101_FPN_3x/138363331/model_final_997cc7.pkl \\\n",
    "    MODEL.ROI_HEADS.SCORE_THRESH_TEST 0.7 \\\n",
    "    MODEL.DEVICE cuda"
   ]
  }
 ],
 "metadata": {
  "kernelspec": {
   "display_name": "Python 3",
   "language": "python",
   "name": "python3"
  },
  "language_info": {
   "codemirror_mode": {
    "name": "ipython",
    "version": 3
   },
   "file_extension": ".py",
   "mimetype": "text/x-python",
   "name": "python",
   "nbconvert_exporter": "python",
   "pygments_lexer": "ipython3",
   "version": "3.6.9"
  }
 },
 "nbformat": 4,
 "nbformat_minor": 5
}
