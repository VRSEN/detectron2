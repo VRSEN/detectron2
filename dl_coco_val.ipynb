{
 "cells": [
  {
   "cell_type": "code",
   "execution_count": 1,
   "id": "6989945d-e598-4662-8c9a-3589e21d49bd",
   "metadata": {},
   "outputs": [],
   "source": [
    "import os\n",
    "from os import chdir, mkdir;\n",
    "import shutil"
   ]
  },
  {
   "cell_type": "code",
   "execution_count": 2,
   "id": "57048bec-9d20-41d6-b81f-3ce49c90eee3",
   "metadata": {
    "scrolled": true,
    "tags": []
   },
   "outputs": [
    {
     "name": "stdout",
     "output_type": "stream",
     "text": [
      "--2021-05-31 05:10:48--  https://dl.fbaipublicfiles.com/detectron2/annotations/coco/instances_val2017_100.json\n",
      "Resolving dl.fbaipublicfiles.com (dl.fbaipublicfiles.com)... 104.22.74.142, 172.67.9.4, 104.22.75.142, ...\n",
      "Connecting to dl.fbaipublicfiles.com (dl.fbaipublicfiles.com)|104.22.74.142|:443... connected.\n",
      "HTTP request sent, awaiting response... 200 OK\n",
      "Length: 538304 (526K) [text/plain]\n",
      "Saving to: 'coco/annotations/instances_val2017_100.json'\n",
      "\n",
      "coco/annotations/in 100%[===================>] 525.69K   737KB/s    in 0.7s    \n",
      "\n",
      "2021-05-31 05:10:49 (737 KB/s) - 'coco/annotations/instances_val2017_100.json' saved [538304/538304]\n",
      "\n",
      "--2021-05-31 05:10:49--  https://dl.fbaipublicfiles.com/detectron2/annotations/coco/person_keypoints_val2017_100.json\n",
      "Resolving dl.fbaipublicfiles.com (dl.fbaipublicfiles.com)... 172.67.9.4, 104.22.75.142, 104.22.74.142, ...\n",
      "Connecting to dl.fbaipublicfiles.com (dl.fbaipublicfiles.com)|172.67.9.4|:443... connected.\n",
      "HTTP request sent, awaiting response... 200 OK\n",
      "Length: 190138 (186K) [text/plain]\n",
      "Saving to: 'coco/annotations/person_keypoints_val2017_100.json'\n",
      "\n",
      "coco/annotations/pe 100%[===================>] 185.68K   377KB/s    in 0.5s    \n",
      "\n",
      "2021-05-31 05:10:51 (377 KB/s) - 'coco/annotations/person_keypoints_val2017_100.json' saved [190138/190138]\n",
      "\n",
      "--2021-05-31 05:10:51--  https://dl.fbaipublicfiles.com/detectron2/annotations/coco/instances_minival2014_100.json\n",
      "Resolving dl.fbaipublicfiles.com (dl.fbaipublicfiles.com)... 104.22.75.142, 104.22.74.142, 172.67.9.4, ...\n",
      "Connecting to dl.fbaipublicfiles.com (dl.fbaipublicfiles.com)|104.22.75.142|:443... connected.\n",
      "HTTP request sent, awaiting response... 200 OK\n",
      "Length: 524567 (512K) [text/plain]\n",
      "Saving to: 'coco/annotations/instances_minival2014_100.json'\n",
      "\n",
      "coco/annotations/in 100%[===================>] 512.27K   579KB/s    in 0.9s    \n",
      "\n",
      "2021-05-31 05:10:53 (579 KB/s) - 'coco/annotations/instances_minival2014_100.json' saved [524567/524567]\n",
      "\n",
      "--2021-05-31 05:10:53--  https://dl.fbaipublicfiles.com/detectron2/annotations/coco/person_keypoints_minival2014_100.json\n",
      "Resolving dl.fbaipublicfiles.com (dl.fbaipublicfiles.com)... 104.22.74.142, 172.67.9.4, 104.22.75.142, ...\n",
      "Connecting to dl.fbaipublicfiles.com (dl.fbaipublicfiles.com)|104.22.74.142|:443... connected.\n",
      "HTTP request sent, awaiting response... 200 OK\n",
      "Length: 189170 (185K) [text/plain]\n",
      "Saving to: 'coco/annotations/person_keypoints_minival2014_100.json'\n",
      "\n",
      "coco/annotations/pe 100%[===================>] 184.74K   366KB/s    in 0.5s    \n",
      "\n",
      "2021-05-31 05:10:55 (366 KB/s) - 'coco/annotations/person_keypoints_minival2014_100.json' saved [189170/189170]\n",
      "\n"
     ]
    }
   ],
   "source": [
    "chdir('/falldetector/detectron2/datasets')\n",
    "!./prepare_for_tests.sh"
   ]
  },
  {
   "cell_type": "code",
   "execution_count": 3,
   "id": "3541a95a-b44e-4142-8a3f-7c3f98e296f1",
   "metadata": {},
   "outputs": [],
   "source": [
    "chdir('coco')\n",
    "mkdir('train2017')\n",
    "mkdir('val2017')"
   ]
  },
  {
   "cell_type": "code",
   "execution_count": 4,
   "id": "5b11a5a8-06a3-43f7-b275-527567820f1e",
   "metadata": {},
   "outputs": [],
   "source": [
    "import json\n",
    "with open('./annotations/person_keypoints_val2017_100.json') as f:\n",
    "    annot = json.load(f)"
   ]
  },
  {
   "cell_type": "code",
   "execution_count": 5,
   "id": "03e78199-488a-485b-bd2c-71f7807085f9",
   "metadata": {},
   "outputs": [
    {
     "data": {
      "text/plain": [
       "dict_keys(['segmentation', 'num_keypoints', 'area', 'iscrowd', 'keypoints', 'image_id', 'bbox', 'category_id', 'id'])"
      ]
     },
     "execution_count": 5,
     "metadata": {},
     "output_type": "execute_result"
    }
   ],
   "source": [
    "annot['annotations'][1].keys()"
   ]
  },
  {
   "cell_type": "code",
   "execution_count": 6,
   "id": "64fa9341-1a83-43f6-8690-2bbf915045cb",
   "metadata": {},
   "outputs": [],
   "source": [
    "from urllib.request import urlretrieve\n",
    "os.chdir('/falldetector/detectron2/datasets/coco/val2017')\n",
    "for i, _ in enumerate(annot['images']):\n",
    "    url = annot['images'][i]['coco_url']\n",
    "    f_name = annot['images'][i]['file_name']\n",
    "    urlretrieve(url, f_name)"
   ]
  },
  {
   "cell_type": "code",
   "execution_count": 7,
   "id": "f33f7698-cc0c-42d1-9ce6-2c62b7ec7173",
   "metadata": {},
   "outputs": [],
   "source": [
    "if os.path.exists('/falldetector/detectron2/datasets/coco/annotations/person_keypoints_val2017_100.json'): \n",
    "    os.rename('/falldetector/detectron2/datasets/coco/annotations/person_keypoints_val2017_100.json', '/falldetector/detectron2/datasets/coco/annotations/person_keypoints_val2017.json')"
   ]
  },
  {
   "cell_type": "code",
   "execution_count": null,
   "id": "f6652b14-e3d5-4ef4-865c-484ae7cce000",
   "metadata": {},
   "outputs": [],
   "source": []
  }
 ],
 "metadata": {
  "kernelspec": {
   "display_name": "Python 3",
   "language": "python",
   "name": "python3"
  },
  "language_info": {
   "codemirror_mode": {
    "name": "ipython",
    "version": 3
   },
   "file_extension": ".py",
   "mimetype": "text/x-python",
   "name": "python",
   "nbconvert_exporter": "python",
   "pygments_lexer": "ipython3",
   "version": "3.6.9"
  }
 },
 "nbformat": 4,
 "nbformat_minor": 5
}
